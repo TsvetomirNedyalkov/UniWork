{
 "cells": [
  {
   "cell_type": "markdown",
   "metadata": {},
   "source": [
    "# Генетичен Алгоритъм"
   ]
  },
  {
   "attachments": {},
   "cell_type": "markdown",
   "metadata": {},
   "source": [
    "Генетичните алгоритми са клас адаптивни алгоритми за стохастична оптимизация, които включват търсене и итеративно оптимизиране на решението.\n",
    "\n",
    "Генетичен алгоритъм е евристика за търсене, която е вдъхновена от теорията на Чарлз Дарвин за естествената еволюция. Този алгоритъм отразява процеса на естествения подбор, където най-силните индивиди са избрани за възпроизвеждане, за да произвеждат потомство на следващото поколение.\n",
    "\n",
    "\n",
    "Понятието за естествена селекция може да се приложи за проблем при търсене. Разглеждаме набор от решения за даден проблем и избираме набор от най-добрите от тях.\n",
    "\n",
    "Примерът който съм дал е за проблема с пътуващия търговец(Traveling Salesman Problem(TSP)). Въпроса който задава е \"Като се има предвид списък на градовете и разстоянията между всяка двойка, кой е най-краткият възможен маршрут, който посещава всеки град и се връща към града на произхода?\"\n",
    "\n"
   ]
  },
  {
   "attachments": {
    "1_DwB6K0KKNug7-y59Uowhsg.png": {
     "image/png": "[encoded data removed]"
    }
   },
   "cell_type": "markdown",
   "metadata": {},
   "source": [
    "![1_DwB6K0KKNug7-y59Uowhsg.png](attachment:1_DwB6K0KKNug7-y59Uowhsg.png)\n",
    "Илюстрация на потенциално решение за TSP (By Xypron [Public domain], from Wikimedia Commons)"
   ]
  },
  {
   "cell_type": "markdown",
   "metadata": {},
   "source": [
    "\n",
    "Нека видим няколко дефиниции за генетичния алгоритъм, които са адаптирани за TSP.\n",
    "\n",
    "    •Gene(Ген): Отговаря на City (представен като (x, y) координати).\n",
    " \n",
    "    •Individual(or Chromosome): Един път, отговарящ на горепосочените условия.\n",
    " \n",
    "    •Population: Колекция от възможни маршрути (т.е. събиране на индивиди).\n",
    " \n",
    "    •Parent: Два маршрута, които се комбинират, за да се създаде нов маршрут.\n",
    " \n",
    "    •Mating Pool: Колекция от родители, които се използват за създаване на следващото ни население (като по този начин се създава следващото поколение маршрути)\n",
    "     \n",
    "    •Fitness: Функция, която ни казва колко е добър всеки маршрут (в нашия случай, колко кратко е разстоянието).\n",
    " \n",
    "    •Mutation: Начин за въвеждане на вариации в нашето население чрез случайна смяна на два града по маршрут.\n",
    " \n",
    "    •Elitism: Начин за пренасяне на най-добрите индивид в следващото поколение."
   ]
  },
  {
   "cell_type": "code",
   "execution_count": 30,
   "metadata": {
    "scrolled": true
   },
   "outputs": [],
   "source": [
    "# Пакети за анализ на данните\n",
    "import numpy as np, random, operator, pandas as pd\n",
    "# Пакети за визуализация\n",
    "import matplotlib.pyplot as plt\n",
    "# Позволява на графиките да се показват под кода\n",
    "%matplotlib inline"
   ]
  },
  {
   "cell_type": "markdown",
   "metadata": {},
   "source": [
    "# Създаваме необходимите класове и функции"
   ]
  },
  {
   "cell_type": "code",
   "execution_count": 31,
   "metadata": {},
   "outputs": [],
   "source": [
    "# Първо създаваме City class това ще ни позволи да създадем \n",
    "# и управляваме нашите градове. Това са просто нашите (x, y) координати.\n",
    "class City:\n",
    "    def __init__(self, x, y):\n",
    "        self.x = x\n",
    "        self.y = y\n",
    "    #Добавяме изчисление на distance като използваме Питагоровата теорема.\n",
    "    def distance(self, city):\n",
    "        xDis = abs(self.x - city.x)\n",
    "        yDis = abs(self.y - city.y)\n",
    "        distance = np.sqrt((xDis ** 2) + (yDis ** 2))\n",
    "        return distance\n",
    "    #__repr__ е по-чист начин за извеждане на градовете като координати.\n",
    "    def __repr__(self):\n",
    "        return \"(\" + str(self.x) + \",\" + str(self.y) + \")\""
   ]
  },
  {
   "cell_type": "code",
   "execution_count": 32,
   "metadata": {},
   "outputs": [],
   "source": [
    "#Създаване и дефиниране на class Fitness, който ще третираме като обратното на разточнието от маршрута.\n",
    "class Fitness:\n",
    "    def __init__(self, route):\n",
    "        self.route = route\n",
    "        self.distance = 0\n",
    "        self.fitness= 0.0\n",
    "    \n",
    "    def routeDistance(self):\n",
    "        if self.distance ==0:\n",
    "            pathDistance = 0\n",
    "            for i in range(0, len(self.route)):\n",
    "                fromCity = self.route[i]\n",
    "                toCity = None\n",
    "                if i + 1 < len(self.route):\n",
    "                    toCity = self.route[i + 1]\n",
    "                else:\n",
    "                    toCity = self.route[0]\n",
    "                pathDistance += fromCity.distance(toCity)\n",
    "            self.distance = pathDistance\n",
    "        return self.distance\n",
    "    \n",
    "    def routeFitness(self):\n",
    "        if self.fitness == 0:\n",
    "            self.fitness = 1 / float(self.routeDistance())\n",
    "        return self.fitness"
   ]
  },
  {
   "cell_type": "markdown",
   "metadata": {},
   "source": [
    "# Създаваме нашето първоначално население"
   ]
  },
  {
   "cell_type": "code",
   "execution_count": 33,
   "metadata": {},
   "outputs": [],
   "source": [
    "#Генериране на маршрут, като произволно избираме реда,в който посещаваме всеки град.\n",
    "def createRoute(cityList):\n",
    "    route = random.sample(cityList, len(cityList))\n",
    "    return route"
   ]
  },
  {
   "cell_type": "code",
   "execution_count": 34,
   "metadata": {},
   "outputs": [],
   "source": [
    "#Създаване на популация(лист от маршрути), като правим цикъл чрез createRoute докато стигнем изисквания брои маршрути.\n",
    "def initialPopulation(popSize, cityList):\n",
    "    population = []\n",
    "\n",
    "    for i in range(0, popSize):\n",
    "        population.append(createRoute(cityList))\n",
    "    return population"
   ]
  },
  {
   "cell_type": "markdown",
   "metadata": {},
   "source": [
    "# Създаваме генетичния алгоритъм"
   ]
  },
  {
   "cell_type": "code",
   "execution_count": 35,
   "metadata": {},
   "outputs": [],
   "source": [
    "#Като използваме Fitness, ще класираме всеки индивид от нашата популация.\n",
    "def rankRoutes(population):\n",
    "    fitnessResults = {}\n",
    "    for i in range(0,len(population)):\n",
    "        fitnessResults[i] = Fitness(population[i]).routeFitness()\n",
    "    return sorted(fitnessResults.items(), key = operator.itemgetter(1), reverse = True)"
   ]
  },
  {
   "cell_type": "markdown",
   "metadata": {},
   "source": [
    "Има няколко варианта как да изберете родителите, които ще се използват за създаване на следващото поколение. Най-често срещаните подходи са или пропорционалната селекция на фитнес (известна като \"избор на рулетка\") или избор на турнир.\n",
    "\n",
    "Начинът който ще използван е ориоирцуибакбата селекция на фитнес, кадето fitness на всеки индивид спрямо населението се използва за определяне на вероятност за селекция.\n",
    "\n",
    "Друга особеност, която трябва да се обмисли, е използването на elitisism. С elitism, най-добре представящите се лица от населението автоматично ще се прехвърлят към следващото поколение, като гарантират, че най-успешните индивиди продължават."
   ]
  },
  {
   "cell_type": "code",
   "execution_count": 36,
   "metadata": {},
   "outputs": [],
   "source": [
    "#Създаваме функция за избор, която ще се използва за създаване на списък с родителски маршрути.\n",
    "def selection(popRanked, eliteSize):\n",
    "    selectionResults = []\n",
    "    #Създаваме колелото на рулетката, като изчисляваме относителната fitness тежест за всеки индивид\n",
    "    df = pd.DataFrame(np.array(popRanked), columns=[\"Index\",\"Fitness\"])\n",
    "    df['cum_sum'] = df.Fitness.cumsum()\n",
    "    df['cum_perc'] = 100*df.cum_sum/df.Fitness.sum()\n",
    "    \n",
    "    #Тук вкарваме Elitism за да запазим нашите наи-добри маршрути.\n",
    "    for i in range(0, eliteSize):\n",
    "        selectionResults.append(popRanked[i][0])\n",
    "    #Сравняваме произволно изтеглени числа с тези fitness тегла, за да изберем нашия басейн за чифтосване\n",
    "    for i in range(0, len(popRanked) - eliteSize):\n",
    "        pick = 100*random.random()\n",
    "        for i in range(0, len(popRanked)):\n",
    "            if pick <= df.iat[i,3]:\n",
    "                selectionResults.append(popRanked[i][0])\n",
    "                break\n",
    "    return selectionResults\n",
    "\n",
    "#В крайна сметка функцията Selection връща списък с идентификатори на маршрути."
   ]
  },
  {
   "cell_type": "code",
   "execution_count": 37,
   "metadata": {},
   "outputs": [],
   "source": [
    "#Следкато имаме лист с идентификатори на маршрути, просто ги изваждаме от нашата популация.\n",
    "def matingPool(population, selectionResults):\n",
    "    matingpool = []\n",
    "    for i in range(0, len(selectionResults)):\n",
    "        index = selectionResults[i]\n",
    "        matingpool.append(population[index])\n",
    "    return matingpool"
   ]
  },
  {
   "cell_type": "code",
   "execution_count": 38,
   "metadata": {},
   "outputs": [],
   "source": [
    "#Създаваме функция на кръстосване за двама родители, за да създадат едно дете.\n",
    "def breed(parent1, parent2):\n",
    "    child = []\n",
    "    childP1 = []\n",
    "    childP2 = []\n",
    "    \n",
    "    geneA = int(random.random() * len(parent1))\n",
    "    geneB = int(random.random() * len(parent1))\n",
    "    \n",
    "    startGene = min(geneA, geneB)\n",
    "    endGene = max(geneA, geneB)\n",
    "\n",
    "    for i in range(startGene, endGene):\n",
    "        childP1.append(parent1[i])\n",
    "        \n",
    "    childP2 = [item for item in parent2 if item not in childP1]\n",
    "\n",
    "    child = childP1 + childP2\n",
    "    return child"
   ]
  },
  {
   "cell_type": "code",
   "execution_count": 39,
   "metadata": {},
   "outputs": [],
   "source": [
    "#Създаваме функция на кръстосване върху целия чифтосващ басейн.\n",
    "def breedPopulation(matingpool, eliteSize):\n",
    "    children = []\n",
    "    length = len(matingpool) - eliteSize\n",
    "    pool = random.sample(matingpool, len(matingpool))\n",
    "\n",
    "    for i in range(0,eliteSize):\n",
    "        children.append(matingpool[i])\n",
    "    \n",
    "    for i in range(0, length):\n",
    "        child = breed(pool[i], pool[len(matingpool)-i-1])\n",
    "        children.append(child)\n",
    "    return children"
   ]
  },
  {
   "cell_type": "markdown",
   "metadata": {},
   "source": [
    "Мутацията изпълнява важна функция в GA, тъй като помага да се избегне локалната конвергенция чрез въвеждане на нови маршрути, които ще ни позволят да изследваме други части от пространството на решението."
   ]
  },
  {
   "cell_type": "code",
   "execution_count": 40,
   "metadata": {},
   "outputs": [],
   "source": [
    "#Създаваме функция за мутиране на един маршрут.\n",
    "def mutate(individual, mutationRate):\n",
    "    for swapped in range(len(individual)):\n",
    "        if(random.random() < mutationRate):\n",
    "            swapWith = int(random.random() * len(individual))\n",
    "            \n",
    "            city1 = individual[swapped]\n",
    "            city2 = individual[swapWith]\n",
    "            \n",
    "            individual[swapped] = city2\n",
    "            individual[swapWith] = city1\n",
    "    return individual"
   ]
  },
  {
   "cell_type": "code",
   "execution_count": 41,
   "metadata": {},
   "outputs": [],
   "source": [
    "#Създаваме функция за мутиране на цяла популация.\n",
    "def mutatePopulation(population, mutationRate):\n",
    "    mutatedPop = []\n",
    "    \n",
    "    for ind in range(0, len(population)):\n",
    "        mutatedInd = mutate(population[ind], mutationRate)\n",
    "        mutatedPop.append(mutatedInd)\n",
    "    return mutatedPop"
   ]
  },
  {
   "cell_type": "code",
   "execution_count": 42,
   "metadata": {},
   "outputs": [],
   "source": [
    "#Слагаме всички стъпки заедно, за да създадем следващото поколение\n",
    "def nextGeneration(currentGen, eliteSize, mutationRate):\n",
    "    popRanked = rankRoutes(currentGen)\n",
    "    selectionResults = selection(popRanked, eliteSize)\n",
    "    matingpool = matingPool(currentGen, selectionResults)\n",
    "    children = breedPopulation(matingpool, eliteSize)\n",
    "    nextGeneration = mutatePopulation(children, mutationRate)\n",
    "    return nextGeneration"
   ]
  },
  {
   "cell_type": "markdown",
   "metadata": {},
   "source": [
    "Най-накрая имаме всички парчета, за да създадем нашия GA! Всичко, което трябва да направим, е да създадем първоначалната популация, а след това можем да преодолеем колкото искаме повече поколения."
   ]
  },
  {
   "cell_type": "code",
   "execution_count": 43,
   "metadata": {},
   "outputs": [],
   "source": [
    "#Създаване на Генетичния алгоритъм.\n",
    "def geneticAlgorithm(population, popSize, eliteSize, mutationRate, generations):\n",
    "    pop = initialPopulation(popSize, population)\n",
    "    #Първоначална дистанция\n",
    "    print(\"Initial distance: \" + str(1 / rankRoutes(pop)[0][1]))\n",
    "    \n",
    "    for i in range(0, generations):\n",
    "        pop = nextGeneration(pop, eliteSize, mutationRate)\n",
    "    #Последна дистанция.\n",
    "    print(\"Final distance: \" + str(1 / rankRoutes(pop)[0][1]))\n",
    "    #Най-добрия маршрут.\n",
    "    bestRouteIndex = rankRoutes(pop)[0][0]\n",
    "    bestRoute = pop[bestRouteIndex]\n",
    "    return bestRoute"
   ]
  },
  {
   "cell_type": "markdown",
   "metadata": {},
   "source": [
    "# Изпълнение на генетичния алгоритъм"
   ]
  },
  {
   "cell_type": "code",
   "execution_count": 44,
   "metadata": {},
   "outputs": [],
   "source": [
    "#За да стартираме алгоритъма първо ще ни трябва лист от градове, в този случаи създаваме 25 града.\n",
    "cityList = []\n",
    "\n",
    "for i in range(0,25):\n",
    "    cityList.append(City(x=int(random.random() * 200), y=int(random.random() * 200)))"
   ]
  },
  {
   "cell_type": "markdown",
   "metadata": {},
   "source": [
    "Сега само стартираме генетичния алгоритъм, като имаме 100 индивида във всяко поколение, държим 20 елитни индивиди, използваме 1% скорост на мутация за даден ген и прекарваме през 500 поколения."
   ]
  },
  {
   "cell_type": "code",
   "execution_count": 45,
   "metadata": {},
   "outputs": [
    {
     "name": "stdout",
     "output_type": "stream",
     "text": [
      "Initial distance: 1980.600595008685\n",
      "Final distance: 962.4798043795673\n"
     ]
    },
    {
     "data": {
      "text/plain": [
       "[(49,84),\n",
       " (10,53),\n",
       " (47,45),\n",
       " (64,44),\n",
       " (110,50),\n",
       " (168,40),\n",
       " (179,17),\n",
       " (180,35),\n",
       " (186,75),\n",
       " (173,108),\n",
       " (175,111),\n",
       " (195,171),\n",
       " (142,106),\n",
       " (127,85),\n",
       " (137,68),\n",
       " (76,80),\n",
       " (65,107),\n",
       " (28,147),\n",
       " (16,154),\n",
       " (104,191),\n",
       " (132,175),\n",
       " (107,137),\n",
       " (115,118),\n",
       " (98,122),\n",
       " (67,112)]"
      ]
     },
     "execution_count": 45,
     "metadata": {},
     "output_type": "execute_result"
    }
   ],
   "source": [
    "geneticAlgorithm(population=cityList, popSize=100, eliteSize=20, mutationRate=0.01, generations=500)"
   ]
  },
  {
   "cell_type": "markdown",
   "metadata": {},
   "source": [
    "# Начертаване на резултатите"
   ]
  },
  {
   "cell_type": "markdown",
   "metadata": {},
   "source": [
    "Важно да отметна е, че това ще стартира различен генетичен алгоритъм от предния.\n",
    "\n",
    "С проста настройка на функцият geneticAlgorithm, можем да съхраним най-краткото разстояние от всяко поколение в списъка на progress и след това да начертаем резултатите."
   ]
  },
  {
   "cell_type": "code",
   "execution_count": 46,
   "metadata": {},
   "outputs": [],
   "source": [
    "def geneticAlgorithmPlot(population, popSize, eliteSize, mutationRate, generations):\n",
    "    pop = initialPopulation(popSize, population)\n",
    "    progress = []\n",
    "    progress.append(1 / rankRoutes(pop)[0][1])\n",
    "    \n",
    "    for i in range(0, generations):\n",
    "        pop = nextGeneration(pop, eliteSize, mutationRate)\n",
    "        progress.append(1 / rankRoutes(pop)[0][1])\n",
    "    \n",
    "    plt.plot(progress)\n",
    "    plt.ylabel('Distance')\n",
    "    plt.xlabel('Generation')\n",
    "    plt.show()"
   ]
  },
  {
   "cell_type": "code",
   "execution_count": 47,
   "metadata": {},
   "outputs": [
    {
     "data": {
      "image/png": "[encoded data removed]",
      "text/plain": [
       "<Figure size 432x288 with 1 Axes>"
      ]
     },
     "metadata": {
      "needs_background": "light"
     },
     "output_type": "display_data"
    }
   ],
   "source": [
    "#Просто отново стартираме но този път с новия geneticAlgorithmPlot.\n",
    "geneticAlgorithmPlot(population=cityList, popSize=100, eliteSize=20, mutationRate=0.01, generations=500)"
   ]
  },
  {
   "cell_type": "markdown",
   "metadata": {},
   "source": [
    "\n",
    "\n",
    "\n",
    "Използвани ресурси :\n",
    "https://towardsdatascience.com/introduction-to-genetic-algorithms-including-example-code-e396e98d8bf3\n",
    "https://towardsdatascience.com/evolution-of-a-salesman-a-complete-genetic-algorithm-tutorial-for-python-6fe5d2b3ca35\n",
    "https://bg.wikipedia.org/wiki/%D0%93%D0%B5%D0%BD%D0%B5%D1%82%D0%B8%D1%87%D0%B5%D0%BD_%D0%B0%D0%BB%D0%B3%D0%BE%D1%80%D0%B8%D1%82%D1%8A%D0%BC\n",
    "https://en.wikipedia.org/wiki/Travelling_salesman_problem"
   ]
  }
 ],
 "metadata": {
  "kernelspec": {
   "display_name": "Python 3",
   "language": "python",
   "name": "python3"
  },
  "language_info": {
   "codemirror_mode": {
    "name": "ipython",
    "version": 3
   },
   "file_extension": ".py",
   "mimetype": "text/x-python",
   "name": "python",
   "nbconvert_exporter": "python",
   "pygments_lexer": "ipython3",
   "version": "3.7.3"
  }
 },
 "nbformat": 4,
 "nbformat_minor": 2
}
